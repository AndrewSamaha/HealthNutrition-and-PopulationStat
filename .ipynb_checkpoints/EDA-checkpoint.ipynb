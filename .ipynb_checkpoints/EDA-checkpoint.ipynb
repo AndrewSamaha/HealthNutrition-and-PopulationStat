{
 "cells": [
  {
   "cell_type": "code",
   "execution_count": 6,
   "metadata": {},
   "outputs": [
    {
     "name": "stdout",
     "output_type": "stream",
     "text": [
      "Country Name                                             Arab World\n",
      "Country Code                                                    ARB\n",
      "Indicator Name    % of females ages 15-49 having comprehensive c...\n",
      "Indicator Code                                    SH.HIV.KNOW.FE.ZS\n",
      "1960                                                            NaN\n",
      "                                        ...                        \n",
      "2012                                                            NaN\n",
      "2013                                                            NaN\n",
      "2014                                                            NaN\n",
      "2015                                                            NaN\n",
      "Unnamed: 60                                                     NaN\n",
      "Name: 0, Length: 61, dtype: object\n"
     ]
    }
   ],
   "source": [
    "import numpy as np\n",
    "import pandas as pd\n",
    "\n",
    "health = pd.read_csv('data/data.csv')\n",
    "print(health.loc[0])"
   ]
  },
  {
   "cell_type": "code",
   "execution_count": null,
   "metadata": {},
   "outputs": [],
   "source": []
  }
 ],
 "metadata": {
  "kernelspec": {
   "display_name": "Python 3",
   "language": "python",
   "name": "python3"
  },
  "language_info": {
   "codemirror_mode": {
    "name": "ipython",
    "version": 3
   },
   "file_extension": ".py",
   "mimetype": "text/x-python",
   "name": "python",
   "nbconvert_exporter": "python",
   "pygments_lexer": "ipython3",
   "version": "3.7.9"
  }
 },
 "nbformat": 4,
 "nbformat_minor": 4
}
